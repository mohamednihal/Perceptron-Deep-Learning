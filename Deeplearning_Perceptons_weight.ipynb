{
  "nbformat": 4,
  "nbformat_minor": 0,
  "metadata": {
    "colab": {
      "name": "Deeplearning Perceptons weight.ipynb",
      "provenance": [],
      "authorship_tag": "ABX9TyOLC00i2AqFg1IKR9LuS8k1",
      "include_colab_link": true
    },
    "kernelspec": {
      "name": "python3",
      "display_name": "Python 3"
    },
    "language_info": {
      "name": "python"
    }
  },
  "cells": [
    {
      "cell_type": "markdown",
      "metadata": {
        "id": "view-in-github",
        "colab_type": "text"
      },
      "source": [
        "<a href=\"https://colab.research.google.com/github/mohamednihal/Perceptron-Deep-Learning/blob/main/Deeplearning_Perceptons_weight.ipynb\" target=\"_parent\"><img src=\"https://colab.research.google.com/assets/colab-badge.svg\" alt=\"Open In Colab\"/></a>"
      ]
    },
    {
      "cell_type": "markdown",
      "metadata": {
        "id": "RzKG_ffCE7l2"
      },
      "source": [
        "weighted sum=x \n",
        "1\n",
        "​\n",
        " w \n",
        "1\n",
        "​\n",
        " +x \n",
        "2\n",
        "​\n",
        " w \n",
        "2\n",
        "​\n",
        " +...+x \n",
        "n\n",
        "​\n",
        " w \n",
        "n\n",
        "​\n"
      ]
    },
    {
      "cell_type": "code",
      "metadata": {
        "id": "yvLmsi23Em61"
      },
      "source": [
        "lines = []\n",
        "\n",
        "class Perceptron:\n",
        "  def __init__(self, num_inputs=3, weights=[1,1,1]):\n",
        "    self.num_inputs = num_inputs\n",
        "    self.weights = weights\n",
        "\n",
        "  def weighted_sum(self, inputs):\n",
        "    weighted_sum = 0\n",
        "    for i in range(self.num_inputs):\n",
        "      weighted_sum += self.weights[i]*inputs[i]\n",
        "    return weighted_sum\n",
        "\n",
        "  def activation(self, weighted_sum):\n",
        "    if weighted_sum >= 0:\n",
        "      return 1\n",
        "    if weighted_sum < 0:\n",
        "      return -1\n",
        "\n",
        "  def training(self, training_set):\n",
        "    foundLine = False\n",
        "    while not foundLine:\n",
        "      total_error = 0\n",
        "      for inputs in training_set:\n",
        "        prediction = self.activation(self.weighted_sum(inputs))\n",
        "        actual = training_set[inputs]\n",
        "        error = actual - prediction\n",
        "        total_error += abs(error)\n",
        "        for i in range(self.num_inputs):\n",
        "          self.weights[i] += error*inputs[i]\n",
        "\n",
        "      slope = -self.weights[0]/self.weights[1]\n",
        "      intercept = -self.weights[2]/self.weights[1]\n",
        "      y1 = (slope * 0) + intercept\n",
        "      y2 = (slope * 50) + intercept\n",
        "      lines.append([[0,50], [y1, y2]])\n",
        "\n",
        "      if total_error == 0:\n",
        "        foundLine = True\n"
      ],
      "execution_count": null,
      "outputs": []
    },
    {
      "cell_type": "code",
      "metadata": {
        "colab": {
          "base_uri": "https://localhost:8080/",
          "height": 281
        },
        "id": "URlG4Lons9jO",
        "outputId": "8fea950f-b053-42a9-ce0f-3c7ed0b4364b"
      },
      "source": [
        "\n",
        "import matplotlib.pyplot as plt\n",
        "import matplotlib.animation as animation\n",
        "import random\n",
        "# from perceptron import Perceptron, lines\n",
        "\n",
        "def generate_training_set(num_points):\n",
        "\tx_coordinates = [random.randint(0, 50) for i in range(num_points)]\n",
        "\ty_coordinates = [random.randint(0, 50) for i in range(num_points)]\n",
        "\ttraining_set = dict()\n",
        "\tfor x, y in zip(x_coordinates, y_coordinates):\n",
        "\t\tif x <= 45-y:\n",
        "\t\t\ttraining_set[(x,y,1)] = 1\n",
        "\t\telif x > 45-y:\n",
        "\t\t\ttraining_set[(x,y,1)] = -1\n",
        "\treturn training_set\n",
        "\n",
        "training_set = generate_training_set(30)\n",
        "\n",
        "x_plus = []\n",
        "y_plus = []\n",
        "x_minus = []\n",
        "y_minus = []\n",
        "\n",
        "for data in training_set:\n",
        "\tif training_set[data] == 1:\n",
        "\t\tx_plus.append(data[0])\n",
        "\t\ty_plus.append(data[1])\n",
        "\telif training_set[data] == -1:\n",
        "\t\tx_minus.append(data[0])\n",
        "\t\ty_minus.append(data[1])\n",
        "\n",
        "perceptron = Perceptron()\n",
        "perceptron.training(training_set)\n",
        "\n",
        "fig = plt.figure()\n",
        "ax = plt.axes(xlim=(-25, 75), ylim=(-25, 75))\n",
        "line, = ax.plot([], [], lw=2)\n",
        "\n",
        "fig.patch.set_facecolor('#ffc107')\n",
        "\n",
        "plt.scatter(x_plus, y_plus, marker = '+', c = 'green', s = 128, linewidth = 2)\n",
        "plt.scatter(x_minus, y_minus, marker = '_', c = 'red', s = 128, linewidth = 2)\n",
        "\n",
        "plt.title('Iteration: 0')\n",
        "\n",
        "\n",
        "def animate(i):\n",
        "    print(i)\n",
        "    line.set_xdata(lines[i][0])  # update the data\n",
        "    line.set_ydata(lines[i][1])  # update the data\n",
        "    return line,\n",
        "\n",
        "def init():\n",
        "    line.set_data([], [])\n",
        "    return line,\n",
        "\n",
        "ani = animation.FuncAnimation(fig, animate, frames=1, init_func=init, interval=50, blit=True, repeat=False)\n",
        "\n",
        "plt.show()"
      ],
      "execution_count": null,
      "outputs": [
        {
          "output_type": "display_data",
          "data": {
            "image/png": "[encoded data removed]",
            "text/plain": [
              "<Figure size 432x288 with 1 Axes>"
            ]
          },
          "metadata": {
            "tags": []
          }
        }
      ]
    },
    {
      "cell_type": "code",
      "metadata": {
        "id": "Tp4aoWZ-wo3c"
      },
      "source": [
        ""
      ],
      "execution_count": null,
      "outputs": []
    }
  ]
}